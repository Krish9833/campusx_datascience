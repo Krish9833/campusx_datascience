{
 "cells": [
  {
   "cell_type": "markdown",
   "id": "a54b2765-f863-4797-899f-826523821b2f",
   "metadata": {},
   "source": [
    "# intro about different types of output"
   ]
  },
  {
   "cell_type": "code",
   "execution_count": 1,
   "id": "0a8a3f39-b645-4279-ae64-568e8e48b79c",
   "metadata": {},
   "outputs": [
    {
     "name": "stdout",
     "output_type": "stream",
     "text": [
      "namaste\n"
     ]
    }
   ],
   "source": [
    "print('namaste')"
   ]
  },
  {
   "cell_type": "code",
   "execution_count": 2,
   "id": "b5f93609-7970-4539-b842-dee504e979aa",
   "metadata": {},
   "outputs": [
    {
     "name": "stdout",
     "output_type": "stream",
     "text": [
      "namaste,20,2.0,true\n"
     ]
    }
   ],
   "source": [
    "print('namaste,20,2.0,true')"
   ]
  },
  {
   "cell_type": "code",
   "execution_count": 14,
   "id": "6eacbbb8-447f-4ee9-9f96-9904189fc0fa",
   "metadata": {},
   "outputs": [
    {
     "name": "stdout",
     "output_type": "stream",
     "text": [
      "namaste202.0True\n"
     ]
    }
   ],
   "source": [
    "print('namaste',20,2.0,True,sep='')"
   ]
  },
  {
   "cell_type": "code",
   "execution_count": 16,
   "id": "46ecd409-2320-4647-b6c6-642dfc0d68b3",
   "metadata": {},
   "outputs": [
    {
     "name": "stdout",
     "output_type": "stream",
     "text": [
      "namaste/20/2.0/True\n"
     ]
    }
   ],
   "source": [
    "print('namaste',20,2.0,True,sep='/')'"
   ]
  },
  {
   "cell_type": "code",
   "execution_count": 21,
   "id": "40a401d6-cf0f-4aea-b889-bf9143d2b386",
   "metadata": {},
   "outputs": [
    {
     "name": "stdout",
     "output_type": "stream",
     "text": [
      "namaste-bhaiyaji\n"
     ]
    }
   ],
   "source": [
    "print('namaste',end='-')\n",
    "print('bhaiyaji')"
   ]
  },
  {
   "cell_type": "markdown",
   "id": "c418900b-b9f6-4f88-b367-e5c52f442e31",
   "metadata": {},
   "source": [
    "# 2.Data types"
   ]
  },
  {
   "cell_type": "code",
   "execution_count": 22,
   "id": "9fce371e-a2ae-4db5-9a99-3a230af66b9a",
   "metadata": {},
   "outputs": [
    {
     "name": "stdout",
     "output_type": "stream",
     "text": [
      "8\n",
      "1e+308\n"
     ]
    }
   ],
   "source": [
    "# integer\n",
    "print(8)\n",
    "1*10^308\n",
    "print(1e308)"
   ]
  },
  {
   "cell_type": "code",
   "execution_count": 23,
   "id": "e2d60346-0ee5-42bd-b49a-9177988aa064",
   "metadata": {},
   "outputs": [
    {
     "name": "stdout",
     "output_type": "stream",
     "text": [
      "2.5\n",
      "1.7e+308\n"
     ]
    }
   ],
   "source": [
    "# float/double\n",
    "print(2.5)\n",
    "print(1.7e308)"
   ]
  },
  {
   "cell_type": "code",
   "execution_count": 25,
   "id": "efd9f88d-3605-4882-95b9-ff6ab0f91cb9",
   "metadata": {},
   "outputs": [
    {
     "name": "stdout",
     "output_type": "stream",
     "text": [
      "krishna\n"
     ]
    }
   ],
   "source": [
    "#strings\n",
    "print('krishna')"
   ]
  },
  {
   "cell_type": "code",
   "execution_count": 26,
   "id": "5ee59a25-0fd7-4b27-aa3d-e2a77d61dea8",
   "metadata": {},
   "outputs": [
    {
     "name": "stdout",
     "output_type": "stream",
     "text": [
      "True\n"
     ]
    }
   ],
   "source": [
    "#boolean expression\n",
    "print(True)"
   ]
  },
  {
   "cell_type": "code",
   "execution_count": 27,
   "id": "35b538e5-46b7-4af4-a424-13df4733f250",
   "metadata": {},
   "outputs": [
    {
     "name": "stdout",
     "output_type": "stream",
     "text": [
      "[1, 2, 3, 4, 5]\n"
     ]
    }
   ],
   "source": [
    "#List ----> Array(slow and modifiable) \n",
    "print([1,2,3,4,5])"
   ]
  },
  {
   "cell_type": "code",
   "execution_count": 28,
   "id": "b072eb0f-fafb-4f41-96c1-7038cbb506f1",
   "metadata": {},
   "outputs": [
    {
     "name": "stdout",
     "output_type": "stream",
     "text": [
      "(1, 2, 3, 4, 5)\n"
     ]
    }
   ],
   "source": [
    "#tuples  (fast and not modifiable)\n",
    "print((1,2,3,4,5))"
   ]
  },
  {
   "cell_type": "code",
   "execution_count": 30,
   "id": "8c72a1d7-7cc9-46af-969f-fc785f1d5178",
   "metadata": {},
   "outputs": [
    {
     "name": "stdout",
     "output_type": "stream",
     "text": [
      "{'name:krishna,gender:male,'}\n"
     ]
    }
   ],
   "source": [
    "#dictionary\n",
    "print({'name:krishna,gender:male,'})"
   ]
  },
  {
   "cell_type": "code",
   "execution_count": 33,
   "id": "bcd0fa70-bf50-4e75-9ce1-2e33f0abbea9",
   "metadata": {},
   "outputs": [
    {
     "name": "stdout",
     "output_type": "stream",
     "text": [
      "(5+4j)\n"
     ]
    }
   ],
   "source": [
    "#complex\n",
    "print(5+4j)"
   ]
  },
  {
   "cell_type": "code",
   "execution_count": 34,
   "id": "c5fab960-ff8b-4704-8553-ec5730ce43e7",
   "metadata": {},
   "outputs": [
    {
     "name": "stdout",
     "output_type": "stream",
     "text": [
      "{1, 2, 3}\n"
     ]
    }
   ],
   "source": [
    "#sets (if data is repeated then it does not repeat while printing )\n",
    "print({1,2,3,3})"
   ]
  },
  {
   "cell_type": "code",
   "execution_count": 47,
   "id": "feaa1d0f-2f65-43f1-9b97-3b4bf844cea4",
   "metadata": {},
   "outputs": [
    {
     "data": {
      "text/plain": [
       "list"
      ]
     },
     "execution_count": 47,
     "metadata": {},
     "output_type": "execute_result"
    }
   ],
   "source": [
    "#type (it is used to identify the data types)\n",
    "type([1,2,3,4])"
   ]
  },
  {
   "cell_type": "markdown",
   "id": "104362e9-cd77-4e2e-bb68-db7da1eeb979",
   "metadata": {},
   "source": [
    "# 3.Variables"
   ]
  },
  {
   "cell_type": "code",
   "execution_count": 41,
   "id": "3e210b31-c625-4846-a23c-5adbf5942e50",
   "metadata": {},
   "outputs": [
    {
     "name": "stdout",
     "output_type": "stream",
     "text": [
      "krishna\n",
      "7\n"
     ]
    }
   ],
   "source": [
    "#dynamic typing (where datatype need not to be declared for variable)) ---->opposite\n",
    "name='krishna'\n",
    "print(name)\n",
    "a=2\n",
    "b=5\n",
    "print(a+b)\n",
    "#static typing in C/C++ (where datatype needs to be declared for variable)\n",
    "#int name =\"krishna\""
   ]
  },
  {
   "cell_type": "code",
   "execution_count": 43,
   "id": "338ca43a-133a-45ab-981c-23cbd4a2a590",
   "metadata": {},
   "outputs": [
    {
     "name": "stdout",
     "output_type": "stream",
     "text": [
      "2\n",
      "5\n"
     ]
    }
   ],
   "source": [
    "#static Binding (if one variable is assigned with the value then it cannot be aigned with another value)\n",
    "#e.g. if a=2 then it cannot be a=3\n",
    "#dynamic Binding (opposite of static Binding)\n",
    "#e.g \n",
    "a=2\n",
    "print(a)\n",
    "a=5\n",
    "print(a)"
   ]
  },
  {
   "cell_type": "code",
   "execution_count": 44,
   "id": "bbbe7a9d-f17b-4a86-901e-81a7956c6545",
   "metadata": {},
   "outputs": [
    {
     "name": "stdout",
     "output_type": "stream",
     "text": [
      "1 2 3\n"
     ]
    }
   ],
   "source": [
    "#stylish declaration techniques\n",
    "a,b,c=1,2,3\n",
    "print(a,b,c)"
   ]
  },
  {
   "cell_type": "code",
   "execution_count": 45,
   "id": "9526d510-bf1b-4564-a89a-3e63ba5ea43d",
   "metadata": {},
   "outputs": [
    {
     "name": "stdout",
     "output_type": "stream",
     "text": [
      "1 2 3\n"
     ]
    }
   ],
   "source": [
    "a=1\n",
    "b=2\n",
    "c=3\n",
    "print(a,b,c)"
   ]
  },
  {
   "cell_type": "raw",
   "id": "f6cb1d3b-a9dc-419b-9490-f27346148dcd",
   "metadata": {},
   "source": [
    "a=b=c=5\n",
    "print(a,b,c)"
   ]
  },
  {
   "cell_type": "markdown",
   "id": "195e0307-7c8e-4c53-ab81-d186f9a2b74a",
   "metadata": {},
   "source": [
    "# 4. Keywords & Identifiers"
   ]
  },
  {
   "cell_type": "code",
   "execution_count": null,
   "id": "1b030d9b-2b4c-4751-9168-a0d461cb50dc",
   "metadata": {},
   "outputs": [],
   "source": [
    "#Keywords can't be used as a variable name "
   ]
  },
  {
   "cell_type": "code",
   "execution_count": 1,
   "id": "19f8a9f1-2b11-4423-9d15-c5be1fabfa62",
   "metadata": {},
   "outputs": [
    {
     "name": "stdout",
     "output_type": "stream",
     "text": [
      "krishna\n",
      "krishna\n",
      "krishna\n"
     ]
    }
   ],
   "source": [
    "#Identifiers\n",
    "#rules for writing the identifiers\n",
    "#1.you can't start with a digit means --> 1name='krishna' \\n print(1name) won't print the krishna \n",
    "#name1='krishna'\n",
    "#print(name1)\n",
    "#2. you can use special characters just -> _ \n",
    "#first-name ='krishna' --> this won't work\n",
    "#print (first-name)\n",
    "# above code won't work beacuse under_score must be used \n",
    "#right Implementation below\n",
    "name1='krishna'\n",
    "print(name1)\n",
    "first_name ='krishna'\n",
    "print (first_name)\n",
    "_ = 'krishna' \n",
    "#we can print by using underscore'_' \n",
    "print('krishna')\n",
    "#3.identifiers can not be keywords"
   ]
  },
  {
   "cell_type": "markdown",
   "id": "4a93975c-2db9-4d4f-81ec-2a76b0b3cca0",
   "metadata": {},
   "source": [
    "# 5.user input"
   ]
  },
  {
   "cell_type": "code",
   "execution_count": 2,
   "id": "5d9288c6-756c-4228-b45e-0d5bbf2956a5",
   "metadata": {},
   "outputs": [
    {
     "name": "stdin",
     "output_type": "stream",
     "text": [
      "apna naam bata krishna\n"
     ]
    },
    {
     "data": {
      "text/plain": [
       "'krishna'"
      ]
     },
     "execution_count": 2,
     "metadata": {},
     "output_type": "execute_result"
    }
   ],
   "source": [
    "# static vs dynamic\n",
    "input('apna naam bata')"
   ]
  },
  {
   "cell_type": "code",
   "execution_count": null,
   "id": "bac863dc-7306-4d95-bf2e-07e950bd3987",
   "metadata": {},
   "outputs": [],
   "source": [
    "#take input user from user and store them in variable\n",
    "input('enter the first number')\n",
    "# add the 2 variables\n",
    "#print the result"
   ]
  },
  {
   "cell_type": "code",
   "execution_count": null,
   "id": "721ec59a-5dc2-42df-a7f3-7e4fc3d4fde6",
   "metadata": {},
   "outputs": [],
   "source": []
  },
  {
   "cell_type": "code",
   "execution_count": null,
   "id": "687d28b3-9f28-4a26-9118-5a5f4673624e",
   "metadata": {},
   "outputs": [],
   "source": []
  }
 ],
 "metadata": {
  "kernelspec": {
   "display_name": "Python 3 (ipykernel)",
   "language": "python",
   "name": "python3"
  },
  "language_info": {
   "codemirror_mode": {
    "name": "ipython",
    "version": 3
   },
   "file_extension": ".py",
   "mimetype": "text/x-python",
   "name": "python",
   "nbconvert_exporter": "python",
   "pygments_lexer": "ipython3",
   "version": "3.10.13"
  }
 },
 "nbformat": 4,
 "nbformat_minor": 5
}
