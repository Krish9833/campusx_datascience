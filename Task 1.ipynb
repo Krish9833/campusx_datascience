{
 "cells": [
  {
   "cell_type": "markdown",
   "id": "71502826-8424-450e-84d2-c8b942090765",
   "metadata": {},
   "source": [
    "# Print the given strings as per stated format (TASK 1)"
   ]
  },
  {
   "cell_type": "code",
   "execution_count": 10,
   "id": "7e07553e-1887-4c28-b375-bd8baa8d3115",
   "metadata": {},
   "outputs": [
    {
     "name": "stdout",
     "output_type": "stream",
     "text": [
      "Data-science-mentorship-program-started-By-campusx"
     ]
    }
   ],
   "source": [
    "#Given strings\n",
    "#Q1 :- Print the given strings as per stated format.\n",
    "print('Data','science','mentorship','program',sep='-',end='-started-By-campusx')"
   ]
  },
  {
   "cell_type": "code",
   "execution_count": 13,
   "id": "efb5ec52-3231-40ca-8d17-5ce658c27f26",
   "metadata": {},
   "outputs": [
    {
     "name": "stdin",
     "output_type": "stream",
     "text": [
      "Enter the temperature in celsius:\n",
      " 45\n"
     ]
    },
    {
     "name": "stdout",
     "output_type": "stream",
     "text": [
      "temperature in farenheit: 113.0\n"
     ]
    }
   ],
   "source": [
    "#Q2:- Write a program that will convert celsius value to fahrenheit.\n",
    "celsius=int(input(\"Enter the temperature in celsius:\\n\"))\n",
    "farenheit=(1.8* celsius)+32\n",
    "print(\"temperature in farenheit:\",farenheit)"
   ]
  },
  {
   "cell_type": "code",
   "execution_count": 20,
   "id": "b0e6d9f9-2c63-476f-9319-058e4c5e528e",
   "metadata": {},
   "outputs": [
    {
     "name": "stdin",
     "output_type": "stream",
     "text": [
      "first number 3\n",
      "second number 5\n"
     ]
    },
    {
     "name": "stdout",
     "output_type": "stream",
     "text": [
      "value of n1 after swapping  5\n",
      "value of n2 after swapping  <class 'int'>\n"
     ]
    }
   ],
   "source": [
    "#Q3:- Take 2 numbers as input from the user.Write a program to swap the numbers without using any special python syntax.\n",
    "n1=int(input(\"first number\"))\n",
    "n2=int(input(\"second number\"))\n",
    "temp=int\n",
    "n1=temp\n",
    "n1=n2\n",
    "n2=temp\n",
    "print(\"value of n1 after swapping \",n1)\n",
    "print(\"value of n2 after swapping \",n2)"
   ]
  },
  {
   "cell_type": "code",
   "execution_count": 5,
   "id": "d565b9d1-4740-4694-ad20-a34551f83251",
   "metadata": {},
   "outputs": [
    {
     "name": "stdin",
     "output_type": "stream",
     "text": [
      "fnum 2\n",
      "snum 3\n"
     ]
    },
    {
     "ename": "TypeError",
     "evalue": "'int' object is not iterable",
     "output_type": "error",
     "traceback": [
      "\u001b[0;31m---------------------------------------------------------------------------\u001b[0m",
      "\u001b[0;31mTypeError\u001b[0m                                 Traceback (most recent call last)",
      "Cell \u001b[0;32mIn[5], line 5\u001b[0m\n\u001b[1;32m      3\u001b[0m n1\u001b[38;5;241m=\u001b[39m\u001b[38;5;28mint\u001b[39m(\u001b[38;5;28minput\u001b[39m(\u001b[38;5;124m\"\u001b[39m\u001b[38;5;124mfnum\u001b[39m\u001b[38;5;124m\"\u001b[39m))\n\u001b[1;32m      4\u001b[0m n2\u001b[38;5;241m=\u001b[39m\u001b[38;5;28mint\u001b[39m(\u001b[38;5;28minput\u001b[39m(\u001b[38;5;124m\"\u001b[39m\u001b[38;5;124msnum\u001b[39m\u001b[38;5;124m\"\u001b[39m))\n\u001b[0;32m----> 5\u001b[0m \u001b[38;5;28mprint\u001b[39m(\u001b[43mmath\u001b[49m\u001b[38;5;241;43m.\u001b[39;49m\u001b[43mdist\u001b[49m\u001b[43m(\u001b[49m\u001b[43mn1\u001b[49m\u001b[43m,\u001b[49m\u001b[43mn2\u001b[49m\u001b[43m)\u001b[49m)\n",
      "\u001b[0;31mTypeError\u001b[0m: 'int' object is not iterable"
     ]
    }
   ],
   "source": [
    "#Q4:- Write a program to find the euclidean distance between two coordinates.Take both the coordinates from the user as input.\n",
    "import math\n",
    "n1=int(input(\"fnum\"))\n",
    "n2=int(input(\"snum\"))\n",
    "print(math.dist(n1,n2))"
   ]
  },
  {
   "cell_type": "code",
   "execution_count": null,
   "id": "35e2b7e1-2415-4e16-a1af-c462080b99d0",
   "metadata": {},
   "outputs": [],
   "source": []
  }
 ],
 "metadata": {
  "kernelspec": {
   "display_name": "Python 3 (ipykernel)",
   "language": "python",
   "name": "python3"
  },
  "language_info": {
   "codemirror_mode": {
    "name": "ipython",
    "version": 3
   },
   "file_extension": ".py",
   "mimetype": "text/x-python",
   "name": "python",
   "nbconvert_exporter": "python",
   "pygments_lexer": "ipython3",
   "version": "3.10.13"
  }
 },
 "nbformat": 4,
 "nbformat_minor": 5
}
