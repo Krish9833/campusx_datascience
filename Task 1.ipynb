{
 "cells": [
  {
   "cell_type": "markdown",
   "id": "71502826-8424-450e-84d2-c8b942090765",
   "metadata": {},
   "source": [
    "# Print the given strings as per stated format"
   ]
  },
  {
   "cell_type": "code",
   "execution_count": 10,
   "id": "7e07553e-1887-4c28-b375-bd8baa8d3115",
   "metadata": {},
   "outputs": [
    {
     "name": "stdout",
     "output_type": "stream",
     "text": [
      "Data-science-mentorship-program-started-By-campusx"
     ]
    }
   ],
   "source": [
    "#Given strings\n",
    "print('Data','science','mentorship','program',sep='-',end='-started-By-campusx')"
   ]
  },
  {
   "cell_type": "code",
   "execution_count": null,
   "id": "efb5ec52-3231-40ca-8d17-5ce658c27f26",
   "metadata": {},
   "outputs": [],
   "source": []
  }
 ],
 "metadata": {
  "kernelspec": {
   "display_name": "Python 3 (ipykernel)",
   "language": "python",
   "name": "python3"
  },
  "language_info": {
   "codemirror_mode": {
    "name": "ipython",
    "version": 3
   },
   "file_extension": ".py",
   "mimetype": "text/x-python",
   "name": "python",
   "nbconvert_exporter": "python",
   "pygments_lexer": "ipython3",
   "version": "3.10.13"
  }
 },
 "nbformat": 4,
 "nbformat_minor": 5
}
