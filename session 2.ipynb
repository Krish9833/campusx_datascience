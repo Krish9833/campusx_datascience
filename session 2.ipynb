{
 "cells": [
  {
   "cell_type": "markdown",
   "id": "4ff5612c-4813-4311-b03a-274bba3ed70c",
   "metadata": {},
   "source": [
    "# Operators in Python\r\n",
    "Arithmetic Operators\r\n",
    "Relational Operators\r\n",
    "Logical Operators\r\n",
    "Bitwise Operators\r\n",
    "Assignment Operators\r\n",
    "Membership Operators"
   ]
  },
  {
   "cell_type": "code",
   "execution_count": 2,
   "id": "001e5c7f-5aa5-4a00-971f-2b188ecd00d7",
   "metadata": {},
   "outputs": [
    {
     "name": "stdout",
     "output_type": "stream",
     "text": [
      "9\n",
      "-8\n",
      "8\n",
      "5.0\n",
      "2\n",
      "243\n",
      "1\n"
     ]
    }
   ],
   "source": [
    "# Arithmetric Operators\n",
    "#addition\n",
    "print(4+5)\n",
    "#sub\n",
    "print(4-12)\n",
    "#multi\n",
    "print(4*2)\n",
    "#divide\n",
    "print(10/2)\n",
    "#integer division\n",
    "print(5//2)\n",
    "#power \n",
    "print(3**5)\n",
    "#modulus\n",
    "print(5%2)"
   ]
  },
  {
   "cell_type": "code",
   "execution_count": 3,
   "id": "f433b949-949d-4842-8175-7117ab73c4f9",
   "metadata": {},
   "outputs": [
    {
     "name": "stdout",
     "output_type": "stream",
     "text": [
      "False\n",
      "True\n",
      "False\n",
      "True\n",
      "True\n",
      "False\n"
     ]
    }
   ],
   "source": [
    "#Relational Operators\n",
    "print(4>5)\n",
    "print(4<5)\n",
    "print(4>=5)\n",
    "print(4<=5)\n",
    "print(4==4)\n",
    "print(4!=4)"
   ]
  },
  {
   "cell_type": "code",
   "execution_count": 5,
   "id": "db04117a-a174-4d98-8a06-793f84d6f420",
   "metadata": {},
   "outputs": [
    {
     "name": "stdout",
     "output_type": "stream",
     "text": [
      "0\n",
      "1\n",
      "0\n",
      "0\n",
      "1\n",
      "1\n",
      "1\n",
      "0\n",
      "False\n",
      "True\n"
     ]
    }
   ],
   "source": [
    "#Logical Operators\n",
    "print(1 and 0)\n",
    "print(1 and 1)\n",
    "print(0 and 1)\n",
    "print(0 and 0)\n",
    "print(1 or 0)\n",
    "print(1 or 1)\n",
    "print(0 or 1)\n",
    "print(0 or 0)\n",
    "print( not 1)\n",
    "print(not 0)"
   ]
  },
  {
   "cell_type": "code",
   "execution_count": 3,
   "id": "9ce0290e-c9b4-449f-8856-8d1deda0d0e6",
   "metadata": {},
   "outputs": [
    {
     "name": "stdout",
     "output_type": "stream",
     "text": [
      "2\n",
      "3\n",
      "1\n",
      "-6\n",
      "1\n",
      "20\n"
     ]
    }
   ],
   "source": [
    "#Bitwise Operators\n",
    "#bitwise and\n",
    "print(2&3)\n",
    "#bitwise or\n",
    "print(2 | 3)\n",
    "#bitwise xor\n",
    "print(2^3)\n",
    "#bitwise negation\n",
    "print(~5)\n",
    "#bitwise rightt shift(it divides the number by 2^n)\n",
    "print(4>>2)\n",
    "#bitwise leftt shift (it multiply the operator by 2^n)\n",
    "print(5<<2)"
   ]
  },
  {
   "cell_type": "code",
   "execution_count": 11,
   "id": "9d934a1c-f670-4b7f-ace8-5f43f8df4e4a",
   "metadata": {},
   "outputs": [],
   "source": [
    "#Assignment Operators\n",
    "# a=2\n",
    "a=2\n",
    "#a==2\n",
    "a+=2\n",
    "a%=2"
   ]
  },
  {
   "cell_type": "code",
   "execution_count": 3,
   "id": "8069acd5-d05b-46c0-aa68-ae9a011b7ace",
   "metadata": {},
   "outputs": [
    {
     "name": "stdout",
     "output_type": "stream",
     "text": [
      "True\n",
      "False\n",
      "False\n"
     ]
    }
   ],
   "source": [
    "# membership operators\n",
    "# in/not in\n",
    "print('D' in 'Delhi')\n",
    "print('D' not in 'Delhi')\n",
    "print(1 in [2,3,4,5,6])"
   ]
  },
  {
   "cell_type": "code",
   "execution_count": 10,
   "id": "52bb43d6-c797-4d8c-9fdb-dc63a5bdf133",
   "metadata": {},
   "outputs": [
    {
     "name": "stdin",
     "output_type": "stream",
     "text": [
      "enter the three digit number 345\n"
     ]
    },
    {
     "name": "stdout",
     "output_type": "stream",
     "text": [
      "12\n"
     ]
    }
   ],
   "source": [
    "# find the sum of three digit number entered by the user\n",
    "number =int(input('enter the three digit number'))\n",
    "a=number%10\n",
    "number=number//10\n",
    "b=number%10\n",
    "number=number//10\n",
    "c=number%10\n",
    "number=number//10\n",
    "print(a+b+c)\n",
    "\n"
   ]
  },
  {
   "cell_type": "markdown",
   "id": "af93cad2-f39d-4daf-8413-73be972172e2",
   "metadata": {},
   "source": [
    "### IF else in python"
   ]
  },
  {
   "cell_type": "code",
   "execution_count": 34,
   "id": "22f8542b-a145-49ff-9847-384041ad73e8",
   "metadata": {},
   "outputs": [
    {
     "name": "stdin",
     "output_type": "stream",
     "text": [
      "enter email kisanpal6616@gmail.com\n",
      "enter the password 1234\n"
     ]
    },
    {
     "name": "stdout",
     "output_type": "stream",
     "text": [
      "namaskar\n"
     ]
    }
   ],
   "source": [
    "# login program and indentation\n",
    "# email-kisanpal6616@gmail.com\n",
    "# password-1234\n",
    "email=input('enter email')\n",
    "password=input('enter the password')\n",
    "\n",
    "if email=='kisanpal6616@gmail.com' and password=='1234':\n",
    "       print('namaskar')\n",
    "else:\n",
    "        print('not correct')"
   ]
  },
  {
   "cell_type": "markdown",
   "id": "76c5f3ae-7df5-4263-81ad-6503ff3a8bd3",
   "metadata": {},
   "source": [
    "# login program and indentation\n",
    "# email-kisanpal6616@gmail.com\n",
    "# password-1234email = input('Enter email: ')\n",
    "email = input(' Enter the email: ')\n",
    "password = input('Enter the password: ')\n",
    "\n",
    "if email == 'kisanpal6616@gmail.com' and password == '1234':\n",
    "    print('Namaskar')\n",
    "elif email == 'kisanpal6616@gmail.com' and password != '1234':\n",
    "    print('Galat password')\n",
    "    password = input('Enter the password again: ')\n",
    "    if password == '1234':\n",
    "        print('Aaiye aapka intezaar tha')\n",
    "    else:\n",
    "        print('Beta tumse nhi hoga') \n",
    "else:\n",
    "    print('Incorrect password')\n"
   ]
  },
  {
   "cell_type": "markdown",
   "id": "426bda48-33da-4675-9cd2-b7730fb88ffe",
   "metadata": {},
   "source": [
    "### exmaples on IF else"
   ]
  },
  {
   "cell_type": "code",
   "execution_count": 62,
   "id": "20da7ac5-1aa6-4eb2-bccf-7ae15118bac0",
   "metadata": {},
   "outputs": [
    {
     "name": "stdin",
     "output_type": "stream",
     "text": [
      "first num 1\n",
      "second num 2\n",
      "third num 3\n"
     ]
    },
    {
     "name": "stdout",
     "output_type": "stream",
     "text": [
      "smallest is 2\n"
     ]
    }
   ],
   "source": [
    "#min 3 numbers\n",
    "a = int(input('first num'))\n",
    "b = int(input('second num'))\n",
    "c = int(input('third num'))\n",
    "\n",
    "if a<b and a>c:\n",
    "    print('smallest is',a)\n",
    "elif b<c:\n",
    "    print('smallest is',b)\n",
    "else:\n",
    "    print('smallest is',c)"
   ]
  },
  {
   "cell_type": "code",
   "execution_count": null,
   "id": "e7f6fb70-6e3c-4c3e-8c2e-2e59ab9ddac1",
   "metadata": {},
   "outputs": [],
   "source": []
  }
 ],
 "metadata": {
  "kernelspec": {
   "display_name": "Python 3 (ipykernel)",
   "language": "python",
   "name": "python3"
  },
  "language_info": {
   "codemirror_mode": {
    "name": "ipython",
    "version": 3
   },
   "file_extension": ".py",
   "mimetype": "text/x-python",
   "name": "python",
   "nbconvert_exporter": "python",
   "pygments_lexer": "ipython3",
   "version": "3.10.13"
  }
 },
 "nbformat": 4,
 "nbformat_minor": 5
}
