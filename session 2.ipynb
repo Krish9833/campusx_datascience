{
 "cells": [
  {
   "cell_type": "markdown",
   "id": "4ff5612c-4813-4311-b03a-274bba3ed70c",
   "metadata": {},
   "source": [
    "# Operators in Python\r\n",
    "Arithmetic Operators\r\n",
    "Relational Operators\r\n",
    "Logical Operators\r\n",
    "Bitwise Operators\r\n",
    "Assignment Operators\r\n",
    "Membership Operators"
   ]
  },
  {
   "cell_type": "code",
   "execution_count": 2,
   "id": "001e5c7f-5aa5-4a00-971f-2b188ecd00d7",
   "metadata": {},
   "outputs": [
    {
     "name": "stdout",
     "output_type": "stream",
     "text": [
      "9\n",
      "-8\n",
      "8\n",
      "5.0\n",
      "2\n",
      "243\n",
      "1\n"
     ]
    }
   ],
   "source": [
    "# Arithmetric Operators\n",
    "#addition\n",
    "print(4+5)\n",
    "#sub\n",
    "print(4-12)\n",
    "#multi\n",
    "print(4*2)\n",
    "#divide\n",
    "print(10/2)\n",
    "#integer division\n",
    "print(5//2)\n",
    "#power \n",
    "print(3**5)\n",
    "#modulus\n",
    "print(5%2)"
   ]
  },
  {
   "cell_type": "code",
   "execution_count": 3,
   "id": "f433b949-949d-4842-8175-7117ab73c4f9",
   "metadata": {},
   "outputs": [
    {
     "name": "stdout",
     "output_type": "stream",
     "text": [
      "False\n",
      "True\n",
      "False\n",
      "True\n",
      "True\n",
      "False\n"
     ]
    }
   ],
   "source": [
    "#Relational Operators\n",
    "print(4>5)\n",
    "print(4<5)\n",
    "print(4>=5)\n",
    "print(4<=5)\n",
    "print(4==4)\n",
    "print(4!=4)"
   ]
  },
  {
   "cell_type": "code",
   "execution_count": 5,
   "id": "db04117a-a174-4d98-8a06-793f84d6f420",
   "metadata": {},
   "outputs": [
    {
     "name": "stdout",
     "output_type": "stream",
     "text": [
      "0\n",
      "1\n",
      "0\n",
      "0\n",
      "1\n",
      "1\n",
      "1\n",
      "0\n",
      "False\n",
      "True\n"
     ]
    }
   ],
   "source": [
    "#Logical Operators\n",
    "print(1 and 0)\n",
    "print(1 and 1)\n",
    "print(0 and 1)\n",
    "print(0 and 0)\n",
    "print(1 or 0)\n",
    "print(1 or 1)\n",
    "print(0 or 1)\n",
    "print(0 or 0)\n",
    "print( not 1)\n",
    "print(not 0)"
   ]
  },
  {
   "cell_type": "code",
   "execution_count": 8,
   "id": "9ce0290e-c9b4-449f-8856-8d1deda0d0e6",
   "metadata": {},
   "outputs": [
    {
     "name": "stdout",
     "output_type": "stream",
     "text": [
      "2\n",
      "3\n",
      "1\n",
      "-6\n",
      "0\n",
      "96\n"
     ]
    }
   ],
   "source": [
    "#Bitwise Operators\n",
    "#bitwise and\n",
    "print(2&3)\n",
    "#bitwise or\n",
    "print(2 | 3)\n",
    "#bitwise xor\n",
    "print(2^3)\n",
    "#bitwise negation\n",
    "print(~5)\n",
    "#bitwise right shift\n",
    "print(2>>5)\n",
    "#bitwise left shift\n",
    "print(3<<5)"
   ]
  },
  {
   "cell_type": "code",
   "execution_count": 11,
   "id": "9d934a1c-f670-4b7f-ace8-5f43f8df4e4a",
   "metadata": {},
   "outputs": [],
   "source": [
    "#Assignment Operators\n",
    "# a=2\n",
    "a=2\n",
    "#a==2\n",
    "a+=2\n",
    "a%=2"
   ]
  },
  {
   "cell_type": "code",
   "execution_count": null,
   "id": "8069acd5-d05b-46c0-aa68-ae9a011b7ace",
   "metadata": {},
   "outputs": [],
   "source": []
  }
 ],
 "metadata": {
  "kernelspec": {
   "display_name": "Python 3 (ipykernel)",
   "language": "python",
   "name": "python3"
  },
  "language_info": {
   "codemirror_mode": {
    "name": "ipython",
    "version": 3
   },
   "file_extension": ".py",
   "mimetype": "text/x-python",
   "name": "python",
   "nbconvert_exporter": "python",
   "pygments_lexer": "ipython3",
   "version": "3.10.13"
  }
 },
 "nbformat": 4,
 "nbformat_minor": 5
}
